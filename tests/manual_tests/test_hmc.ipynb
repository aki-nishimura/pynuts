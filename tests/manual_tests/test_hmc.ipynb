{
 "cells": [
  {
   "cell_type": "code",
   "execution_count": null,
   "metadata": {},
   "outputs": [],
   "source": [
    "import numpy as np\n",
    "import matplotlib.pyplot as plt\n",
    "%matplotlib inline"
   ]
  },
  {
   "cell_type": "code",
   "execution_count": null,
   "metadata": {},
   "outputs": [],
   "source": [
    "import sys\n",
    "sys.path.append('..')\n",
    "sys.path.append('../../..')\n",
    "\n",
    "from hamiltonian_monte_carlo import hmc\n",
    "from hamiltonian_monte_carlo.nuts import NoUTurnSampler\n",
    "from distributions import BivariateGaussian, BivariateBanana"
   ]
  },
  {
   "cell_type": "code",
   "execution_count": null,
   "metadata": {},
   "outputs": [],
   "source": [
    "def plot_2d_empirical_hist(samples, bins, marginal_pdf):\n",
    "\n",
    "    plt.subplot(2, 2, 1)\n",
    "    plt.hist2d(samples[0, :], samples[1, :],\n",
    "               bins=bins, density=True, cmap='inferno')\n",
    "    plt.ylabel(r'$\\theta_2$')\n",
    "    plt.xlabel(r'$\\theta_1$')\n",
    "    plt.colorbar(ticks=[])\n",
    "\n",
    "    for axis in [0, 1]:\n",
    "        plt.subplot(2, 2, 3 - axis)\n",
    "        plt.hist(samples[axis, :], bins=bins[axis], density=True)\n",
    "        plt.plot(bins[axis], marginal_pdf[axis])\n",
    "        plt.xlabel(r'$\\theta_{:d}$'.format(axis + 1))\n",
    "    \n",
    "    plt.tight_layout()"
   ]
  },
  {
   "cell_type": "markdown",
   "metadata": {},
   "source": [
    "## Run HMC on a bivariate Gaussian target."
   ]
  },
  {
   "cell_type": "code",
   "execution_count": null,
   "metadata": {},
   "outputs": [],
   "source": [
    "bivariate_gauss = BivariateGaussian(rho=.9, sigma=np.array([1., 2.]))\n",
    "pc_var, _ = bivariate_gauss.get_principal_components()\n",
    "pc_scale = np.sqrt(pc_var)\n",
    "\n",
    "# Choose near-optimal stepsize and integration time.\n",
    "dt = np.array([.7, .8]) * 2. * np.min(pc_scale)\n",
    "n_step = np.ceil(\n",
    "    np.array([.9, 1.1]) * np.pi / 2 * np.max(pc_scale) / np.max(dt)\n",
    ")\n",
    "\n",
    "n_burnin = 10 ** 4\n",
    "n_sample = 10 ** 5\n",
    "\n",
    "theta0 = np.zeros(2)\n",
    "f = bivariate_gauss.compute_logp_and_gradient\n",
    "samples, logp_samples, accept_prob, time_elapsed \\\n",
    "    = hmc.generate_samples(f, theta0, n_burnin, n_sample, n_step)"
   ]
  },
  {
   "cell_type": "code",
   "execution_count": null,
   "metadata": {},
   "outputs": [],
   "source": [
    "plt.figure(figsize=(14, 10))\n",
    "plt.rcParams['font.size'] = 20\n",
    "\n",
    "bins = [\n",
    "    bivariate_gauss.sigma[0] * np.linspace(-4, 4, 51),\n",
    "    bivariate_gauss.sigma[1] * np.linspace(-4, 4, 51)\n",
    "]\n",
    "marginal_pdf = bivariate_gauss.compute_marginal_pdf(*bins)\n",
    "\n",
    "plot_2d_empirical_hist(samples, bins, marginal_pdf)\n",
    "plt.show()"
   ]
  },
  {
   "cell_type": "markdown",
   "metadata": {},
   "source": [
    "## Run HMC on a 2-d banana-shaped distribution.\n",
    "Gaussians have many special features that makes them particularly simple for HMC, so additional sanity check with a non-Gaussian target won't hurt."
   ]
  },
  {
   "cell_type": "code",
   "execution_count": null,
   "metadata": {},
   "outputs": [],
   "source": [
    "banana = BivariateBanana()\n",
    "dt = .2\n",
    "n_step = [7, 9]\n",
    "\n",
    "n_burnin = 10 ** 3\n",
    "n_sample = 10 ** 5\n",
    "\n",
    "theta0 = np.array([1., 0.])\n",
    "f = banana.compute_logp_and_gradient\n",
    "samples, info \\\n",
    "    = hmc.generate_samples(f, theta0, n_burnin, n_sample, n_step)"
   ]
  },
  {
   "cell_type": "code",
   "execution_count": null,
   "metadata": {},
   "outputs": [],
   "source": [
    "plt.figure(figsize=(14, 10))\n",
    "plt.rcParams['font.size'] = 20\n",
    "\n",
    "bins = 2 * [np.linspace(-3, 3, 51)]\n",
    "marginal_pdf = banana.compute_marginal_pdf(*bins)\n",
    "\n",
    "plot_2d_empirical_hist(samples, bins, marginal_pdf)\n",
    "plt.show()"
   ]
  },
  {
   "cell_type": "markdown",
   "metadata": {},
   "source": [
    "## Run NUTS on a 2-d banana-shaped distribution."
   ]
  },
  {
   "cell_type": "code",
   "execution_count": null,
   "metadata": {},
   "outputs": [],
   "source": [
    "banana = BivariateBanana()\n",
    "\n",
    "n_burnin = 10 ** 4\n",
    "n_sample = 10 ** 5\n",
    "\n",
    "theta0 = np.array([1., 0.])\n",
    "f = banana.compute_logp_and_gradient\n",
    "mass = np.array([4., 1.])\n",
    "nuts = NoUTurnSampler(f, mass)\n",
    "samples, info \\\n",
    "    = nuts.generate_samples(theta0, n_burnin, n_sample, n_update=10, seed=0)"
   ]
  },
  {
   "cell_type": "code",
   "execution_count": null,
   "metadata": {},
   "outputs": [],
   "source": [
    "plt.figure(figsize=(14, 10))\n",
    "plt.rcParams['font.size'] = 20\n",
    "\n",
    "bins = 2 * [np.linspace(-3, 3, 51)]\n",
    "marginal_pdf = banana.compute_marginal_pdf(*bins)\n",
    "\n",
    "plot_2d_empirical_hist(samples, bins, marginal_pdf)\n",
    "plt.show()"
   ]
  },
  {
   "cell_type": "code",
   "execution_count": null,
   "metadata": {},
   "outputs": [],
   "source": [
    "plt.plot(info['stepsize'][:n_burnin])\n",
    "plt.show()"
   ]
  }
 ],
 "metadata": {
  "kernelspec": {
   "display_name": "Python 3",
   "language": "python",
   "name": "python3"
  },
  "language_info": {
   "codemirror_mode": {
    "name": "ipython",
    "version": 3
   },
   "file_extension": ".py",
   "mimetype": "text/x-python",
   "name": "python",
   "nbconvert_exporter": "python",
   "pygments_lexer": "ipython3",
   "version": "3.8.3"
  }
 },
 "nbformat": 4,
 "nbformat_minor": 1
}
